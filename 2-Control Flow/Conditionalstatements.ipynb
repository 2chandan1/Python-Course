{
 "cells": [
  {
   "cell_type": "markdown",
   "id": "e549a8f6",
   "metadata": {},
   "source": [
    "Conditional Statements ( if, elif, else)"
   ]
  },
  {
   "cell_type": "code",
   "execution_count": 1,
   "id": "6d95f562",
   "metadata": {},
   "outputs": [
    {
     "name": "stdout",
     "output_type": "stream",
     "text": [
      "The number is positive.\n"
     ]
    }
   ],
   "source": [
    "# if statement\n",
    "num = 10\n",
    "if num > 0:\n",
    "    print(\"The number is positive.\")"
   ]
  },
  {
   "cell_type": "code",
   "execution_count": 3,
   "id": "e84987c6",
   "metadata": {},
   "outputs": [
    {
     "name": "stdout",
     "output_type": "stream",
     "text": [
      "You are not eligible to vote.\n"
     ]
    }
   ],
   "source": [
    "#else statement\n",
    "# the else statement is used to execute a block of code when the condition in the if statement is false\n",
    "age=16\n",
    "if age >= 18:\n",
    "    print(\"You are eligible to vote.\")  \n",
    "else:\n",
    "    print(\"You are not eligible to vote.\")"
   ]
  },
  {
   "cell_type": "code",
   "execution_count": null,
   "id": "48f4345b",
   "metadata": {},
   "outputs": [
    {
     "name": "stdout",
     "output_type": "stream",
     "text": [
      "You are a teanager.\n"
     ]
    }
   ],
   "source": [
    "# elif statement\n",
    "# the elif statement is used to check multiple conditions\n",
    "age = 16\n",
    "if age< 13:\n",
    "    print(\"You are a minor.\")\n",
    "elif age < 18:\n",
    "    print(\"You are a teenager.\")\n",
    "else:\n",
    "    print(\"You are an adult.\")\n",
    "\n"
   ]
  },
  {
   "cell_type": "code",
   "execution_count": 20,
   "id": "74239874",
   "metadata": {},
   "outputs": [
    {
     "name": "stdout",
     "output_type": "stream",
     "text": [
      "The number is positive.\n",
      "The number is even.\n"
     ]
    }
   ],
   "source": [
    "# Nested conditional statement\n",
    "# You can place one or more if, elif, or else statements inside another if, elif, or else statement.\n",
    "\n",
    "## number even , odd , negative or positive\n",
    "num =int(input(\"Enter a number: \"))\n",
    "if num>0:\n",
    "    print(\"The number is positive.\")\n",
    "    if num%2==0:\n",
    "        print(\"The number is even.\")\n",
    "    else:\n",
    "        print(\"The number is odd.\")\n",
    "elif num<0:\n",
    "    print(\"The number is  negative.\")\n",
    "else:\n",
    "    print(\"The number is zero.\")"
   ]
  },
  {
   "cell_type": "code",
   "execution_count": 27,
   "id": "f4f330e2",
   "metadata": {},
   "outputs": [
    {
     "name": "stdout",
     "output_type": "stream",
     "text": [
      "2026  is not a leap year\n"
     ]
    }
   ],
   "source": [
    "# Practical Example\n",
    "\n",
    "## Determine if the year is a lear year or not\n",
    "year=int(input(\"Enter a year:\"))\n",
    "if year%4==0:\n",
    "    if year%100==0:\n",
    "        if year%400==0:\n",
    "            print(year, \" is a leap year\") \n",
    "        else:\n",
    "            print(year, \"is not a leap year\")\n",
    "    else:  \n",
    "        print(year, \" is a leap year\")\n",
    "else:\n",
    "    print(year, \" is not a leap year\")"
   ]
  },
  {
   "cell_type": "markdown",
   "id": "1c7081f4",
   "metadata": {},
   "source": [
    "### Assingments"
   ]
  },
  {
   "cell_type": "code",
   "execution_count": 30,
   "id": "3c7b9b30",
   "metadata": {},
   "outputs": [
    {
     "name": "stdout",
     "output_type": "stream",
     "text": [
      "Result Error! Division by zero\n"
     ]
    }
   ],
   "source": [
    "## Simple Claculator program\n",
    "num1=float(input(\"Enter first number \"))\n",
    "num2=float(input(\"enter second number\"))\n",
    "operations=input(\"enter operations\")\n",
    "\n",
    "if operations=='+':\n",
    "    result=num1+num2\n",
    "elif operations=='-':\n",
    "    result=num1-num2\n",
    "elif operations=='*':\n",
    "    result=num1*num2\n",
    "elif operations=='%':\n",
    "    result= num1%num2\n",
    "elif operations=='/':\n",
    "    if num2!=0:\n",
    "        result=num1/num2\n",
    "    else:\n",
    "        result=\"Error! Division by zero\"\n",
    "else:\n",
    "    result=\"Invalid operation\"\n",
    "\n",
    "print(\"Result\",result)\n"
   ]
  },
  {
   "cell_type": "code",
   "execution_count": 35,
   "id": "47d279ec",
   "metadata": {},
   "outputs": [
    {
     "name": "stdout",
     "output_type": "stream",
     "text": [
      "Price of ticket is  20\n"
     ]
    }
   ],
   "source": [
    "## determine the ticket price based on age \n",
    "age=int(input(\"Enter the student's age\"))\n",
    "\n",
    "if age<5:\n",
    "    price=0\n",
    "elif age<12:\n",
    "    price=20\n",
    "elif age<17:\n",
    "    is_student=input(\"yes or no\")\n",
    "    if is_student.lower()=='yes':\n",
    "        price=20\n",
    "    else:\n",
    "        price=50\n",
    "else:\n",
    "    price=100   \n",
    "\n",
    "print(\"Price of ticket is \",price)"
   ]
  }
 ],
 "metadata": {
  "kernelspec": {
   "display_name": "Python 3",
   "language": "python",
   "name": "python3"
  },
  "language_info": {
   "codemirror_mode": {
    "name": "ipython",
    "version": 3
   },
   "file_extension": ".py",
   "mimetype": "text/x-python",
   "name": "python",
   "nbconvert_exporter": "python",
   "pygments_lexer": "ipython3",
   "version": "3.13.0"
  }
 },
 "nbformat": 4,
 "nbformat_minor": 5
}
