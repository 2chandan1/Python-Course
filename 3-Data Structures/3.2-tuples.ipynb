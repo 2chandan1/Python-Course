{
 "cells": [
  {
   "cell_type": "markdown",
   "id": "fdc035c9",
   "metadata": {},
   "source": [
    "### Introduction to Tupels"
   ]
  },
  {
   "cell_type": "code",
   "execution_count": 1,
   "id": "db566c62",
   "metadata": {},
   "outputs": [
    {
     "name": "stdout",
     "output_type": "stream",
     "text": [
      "()\n",
      "<class 'tuple'>\n"
     ]
    }
   ],
   "source": [
    "## Creating a tuples\n",
    "empty_tuples=()\n",
    "print(empty_tuples) # prints an empty tuple\n",
    "print(type(empty_tuples)) # prints <class 'tuple'>"
   ]
  },
  {
   "cell_type": "code",
   "execution_count": 2,
   "id": "ebf87e93",
   "metadata": {},
   "outputs": [
    {
     "name": "stdout",
     "output_type": "stream",
     "text": [
      "<class 'list'>\n",
      "<class 'tuple'>\n"
     ]
    }
   ],
   "source": [
    "lst=list()\n",
    "print(type(lst)) # prints <class 'list'>\n",
    "tpl=tuple()\n",
    "print(type(tpl)) # prints <class 'tuple'>"
   ]
  },
  {
   "cell_type": "code",
   "execution_count": 6,
   "id": "4577333e",
   "metadata": {},
   "outputs": [
    {
     "data": {
      "text/plain": [
       "(1, 2, 3, 4, 5, 6)"
      ]
     },
     "execution_count": 6,
     "metadata": {},
     "output_type": "execute_result"
    }
   ],
   "source": [
    "number=tuple([1,2,3,4,5,6])\n",
    "number"
   ]
  },
  {
   "cell_type": "code",
   "execution_count": 1,
   "id": "4711bb79",
   "metadata": {},
   "outputs": [
    {
     "name": "stdout",
     "output_type": "stream",
     "text": [
      "(1, 'helleeo', 3.14, True)\n"
     ]
    }
   ],
   "source": [
    "mixed_tuple=(1, \"helleeo\", 3.14, True)\n",
    "print(mixed_tuple) # prints (1, 'hello', 3.14, True)"
   ]
  },
  {
   "cell_type": "code",
   "execution_count": 12,
   "id": "06c57d3a",
   "metadata": {},
   "outputs": [
    {
     "name": "stdout",
     "output_type": "stream",
     "text": [
      "(1, 2, 3, 4, 5, 6)\n",
      "1\n",
      "6\n",
      "(2, 3, 4)\n",
      "(1, 3, 5)\n"
     ]
    }
   ],
   "source": [
    "print(number)\n",
    "print(number[0])\n",
    "print(number[-1])\n",
    "print(number[1:4])\n",
    "print(number[::2])"
   ]
  },
  {
   "cell_type": "code",
   "execution_count": 14,
   "id": "0c6e9a09",
   "metadata": {},
   "outputs": [
    {
     "name": "stdout",
     "output_type": "stream",
     "text": [
      "(1, 2, 3, 4, 5, 6, 1, 'helleeo', 3.14, True)\n"
     ]
    }
   ],
   "source": [
    "# Tuple Operations \n",
    "\n",
    "concate=number+mixed_tuple\n",
    "print(concate)"
   ]
  },
  {
   "cell_type": "code",
   "execution_count": 15,
   "id": "c1f81a3d",
   "metadata": {},
   "outputs": [
    {
     "data": {
      "text/plain": [
       "(1, 'helleeo', 3.14, True, 1, 'helleeo', 3.14, True, 1, 'helleeo', 3.14, True)"
      ]
     },
     "execution_count": 15,
     "metadata": {},
     "output_type": "execute_result"
    }
   ],
   "source": [
    "mixed_tuple*3"
   ]
  },
  {
   "cell_type": "code",
   "execution_count": null,
   "id": "a685976a",
   "metadata": {},
   "outputs": [
    {
     "data": {
      "text/plain": [
       "(1, 2, 3, 4, 5, 6, 1, 2, 3, 4, 5, 6, 1, 2, 3, 4, 5, 6)"
      ]
     },
     "execution_count": 16,
     "metadata": {},
     "output_type": "execute_result"
    }
   ],
   "source": [
    "number*3 # this is different from list as list will repeat the reference of the list not the actual list"
   ]
  },
  {
   "cell_type": "markdown",
   "id": "831b8e10",
   "metadata": {},
   "source": [
    "### Immutable Nature of Tuples\n",
    "Tuples are immutable, meaning their element cannot be changed once assigned"
   ]
  },
  {
   "cell_type": "code",
   "execution_count": null,
   "id": "5724ced7",
   "metadata": {},
   "outputs": [
    {
     "name": "stdout",
     "output_type": "stream",
     "text": [
      "[1, 2, 3, 4, 5]\n",
      "[1, 'chandan', 3, 4, 5]\n"
     ]
    }
   ],
   "source": [
    "lst=[1,2,3,4,5]\n",
    "print(lst)\n",
    "lst[1]=\"chandan\";\n",
    "print(lst)  # Lists are mutable, so we can change the elements"
   ]
  },
  {
   "cell_type": "code",
   "execution_count": null,
   "id": "0df6ec3e",
   "metadata": {},
   "outputs": [],
   "source": [
    "# number[1]=\"chandan\"  # This will raise an error as tuples are immutable"
   ]
  },
  {
   "cell_type": "code",
   "execution_count": 21,
   "id": "b48969d8",
   "metadata": {},
   "outputs": [
    {
     "name": "stdout",
     "output_type": "stream",
     "text": [
      "1\n",
      "2\n"
     ]
    }
   ],
   "source": [
    "## Tuples Methods\n",
    "\n",
    "print(number.count(1))  # Counts the number of occurrences of 1 in the tuple\n",
    "print(number.index(3))  # Returns the index of the first occurrence of 3 in"
   ]
  },
  {
   "cell_type": "code",
   "execution_count": null,
   "id": "1e93eaee",
   "metadata": {},
   "outputs": [
    {
     "name": "stdout",
     "output_type": "stream",
     "text": [
      "(1, 'hello', 3.14, True)\n"
     ]
    }
   ],
   "source": [
    "## Paking and Unpacking Tuples\n",
    "# Packing a tuple\n",
    "packed_tuple=1,\"hello\",3.14,True\n",
    "print(packed_tuple)  # prints (1, 'hello', 3.14, True)"
   ]
  },
  {
   "cell_type": "code",
   "execution_count": 23,
   "id": "9d4c6fc7",
   "metadata": {},
   "outputs": [
    {
     "name": "stdout",
     "output_type": "stream",
     "text": [
      "1\n",
      "hello\n",
      "3.14\n",
      "True\n"
     ]
    }
   ],
   "source": [
    "# unpacking a tuple\n",
    "a, b, c, d = packed_tuple\n",
    "print(a)  # prints 1\n",
    "print(b)  # prints 'hello'  \n",
    "print(c)  # prints 3.14\n",
    "print(d)  # prints True"
   ]
  },
  {
   "cell_type": "code",
   "execution_count": 24,
   "id": "58c3de22",
   "metadata": {},
   "outputs": [
    {
     "name": "stdout",
     "output_type": "stream",
     "text": [
      "1\n",
      "[2, 3, 4, 5, 6, 7, 8, 9]\n",
      "10\n"
     ]
    }
   ],
   "source": [
    " ## Unpacking with * operator\n",
    "numbers=(1, 2, 3, 4, 5,6,7,8,9,10)\n",
    "first,*middle,last=numbers\n",
    "print(first)  # prints 1\n",
    "print(middle)  # prints [2, 3, 4, 5, 6, 7, 8, 9]\n",
    "print(last)  # prints 10"
   ]
  },
  {
   "cell_type": "code",
   "execution_count": null,
   "id": "030df334",
   "metadata": {},
   "outputs": [
    {
     "name": "stdout",
     "output_type": "stream",
     "text": [
      "3\n",
      "[1, 2, 3]\n",
      "[5, 6]\n"
     ]
    }
   ],
   "source": [
    "\n",
    "## Nested Lists\n",
    "lst=[[1, 2, 3], [4, 5, 6], [7, 8, 9],[1,\"hello\",3.14,True]]\n",
    "print(lst[0][2])\n",
    "print(lst[0][0:3]) #this will slice the first list\n",
    "print(lst[1][1:3]) #this will slice the second list\n"
   ]
  },
  {
   "cell_type": "code",
   "execution_count": 28,
   "id": "f3f6c30a",
   "metadata": {},
   "outputs": [
    {
     "name": "stdout",
     "output_type": "stream",
     "text": [
      "hello\n",
      "(1, 'hello', 3.14)\n"
     ]
    }
   ],
   "source": [
    "lst=[[1, 2, 3], [4, 5, 6],(1,\"hello\",3.14,True)] # inside list we can have tuple\n",
    "print(lst[2][1])  # prints 'hello'\n",
    "print(lst[2][0:3]) # this will slice the tuple"
   ]
  },
  {
   "cell_type": "code",
   "execution_count": null,
   "id": "b88f6f1d",
   "metadata": {},
   "outputs": [
    {
     "name": "stdout",
     "output_type": "stream",
     "text": [
      "(3, 4)\n",
      "4\n"
     ]
    }
   ],
   "source": [
    "## Nested Tuples\n",
    "nested_tuple = ((1, 2, 3, 4), (5, 6,))\n",
    "print(nested_tuple[2])  # prints (3, 4)\n",
    "print(nested_tuple[2][1])  # prints 4"
   ]
  },
  {
   "cell_type": "code",
   "execution_count": 46,
   "id": "f600d2cb",
   "metadata": {},
   "outputs": [
    {
     "name": "stdout",
     "output_type": "stream",
     "text": [
      "1 2 3 4 \n",
      "5 6 \n",
      "2 hello 3.14 True \n"
     ]
    }
   ],
   "source": [
    "## Iterating through a nested tuple\n",
    "nested_tuple = ((1, 2, 3, 4), (5, 6,),(2,\"hello\",3.14,True))\n",
    "for sub_tuple in nested_tuple:\n",
    "    for item in sub_tuple:\n",
    "        print(item,end=\" \")\n",
    "    print()"
   ]
  },
  {
   "cell_type": "code",
   "execution_count": null,
   "id": "ba9a3f9e",
   "metadata": {},
   "outputs": [],
   "source": []
  }
 ],
 "metadata": {
  "kernelspec": {
   "display_name": "Python 3",
   "language": "python",
   "name": "python3"
  },
  "language_info": {
   "codemirror_mode": {
    "name": "ipython",
    "version": 3
   },
   "file_extension": ".py",
   "mimetype": "text/x-python",
   "name": "python",
   "nbconvert_exporter": "python",
   "pygments_lexer": "ipython3",
   "version": "3.13.0"
  }
 },
 "nbformat": 4,
 "nbformat_minor": 5
}
