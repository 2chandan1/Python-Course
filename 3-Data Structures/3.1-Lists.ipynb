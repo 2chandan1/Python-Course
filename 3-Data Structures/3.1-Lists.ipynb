{
 "cells": [
  {
   "cell_type": "markdown",
   "id": "8689c7df",
   "metadata": {},
   "source": [
    "### Lists and List Comprehension"
   ]
  },
  {
   "cell_type": "code",
   "execution_count": 1,
   "id": "7e1a11c9",
   "metadata": {},
   "outputs": [
    {
     "name": "stdout",
     "output_type": "stream",
     "text": [
      "<class 'list'>\n"
     ]
    }
   ],
   "source": [
    "lst=[]\n",
    "print(type(lst))\n"
   ]
  },
  {
   "cell_type": "code",
   "execution_count": 2,
   "id": "05145f04",
   "metadata": {},
   "outputs": [
    {
     "name": "stdout",
     "output_type": "stream",
     "text": [
      "['chandan', 'anmol', 'krish']\n"
     ]
    }
   ],
   "source": [
    "names=['chandan',\"anmol\",\"krish\"]\n",
    "print(names)"
   ]
  },
  {
   "cell_type": "code",
   "execution_count": 4,
   "id": "18d2b863",
   "metadata": {},
   "outputs": [
    {
     "name": "stdout",
     "output_type": "stream",
     "text": [
      "['hello', 1, True, 1]\n"
     ]
    }
   ],
   "source": [
    "mixed_list=[\"hello\",1,True,1]\n",
    "print(mixed_list)"
   ]
  },
  {
   "cell_type": "code",
   "execution_count": 8,
   "id": "052f6d69",
   "metadata": {},
   "outputs": [
    {
     "name": "stdout",
     "output_type": "stream",
     "text": [
      "Apple\n",
      "kiwi\n",
      "orange\n",
      "orange\n"
     ]
    }
   ],
   "source": [
    "###Accessing list Elements\n",
    "fruits=[\"Apple\",\"Banana\",\"cherry\",\"kiwi\",\"orange\"]\n",
    "print(fruits[0])\n",
    "print(fruits[3])\n",
    "print(fruits[4])\n",
    "print(fruits[-1])"
   ]
  },
  {
   "cell_type": "code",
   "execution_count": 12,
   "id": "00333e09",
   "metadata": {},
   "outputs": [
    {
     "name": "stdout",
     "output_type": "stream",
     "text": [
      "['Banana', 'cherry', 'kiwi', 'orange']\n",
      "['Banana', 'cherry', 'kiwi']\n",
      "['Apple', 'Banana', 'cherry']\n",
      "['cherry', 'kiwi', 'orange']\n"
     ]
    }
   ],
   "source": [
    "print(fruits[1:]) # slicing from index 1 to the end\n",
    "print(fruits[1:4]) # slicing from index 1 to 3\n",
    "print(fruits[:3]) # slicing from start to index 2\n",
    "print(fruits[-3:]) # slicing from index -3 to the end"
   ]
  },
  {
   "cell_type": "code",
   "execution_count": null,
   "id": "f5c3dcd5",
   "metadata": {},
   "outputs": [
    {
     "name": "stdout",
     "output_type": "stream",
     "text": [
      "['Mango', 'watermelon']\n",
      "['Mango', 'guava', 'Cherry']\n",
      "['Mango', 'watermelon']\n"
     ]
    }
   ],
   "source": [
    "## Modifying Lists elements\n",
    "fruits[0]=\"Mango\"\n",
    "print(fruits)\n",
    "fruits[1:3]=[\"guava\",\"Cherry\"]\n",
    "print(fruits)\n",
    "fruits[1:]=[\"watermelon\"] # replacing from index 1 to the end\n",
    "print(fruits)"
   ]
  },
  {
   "cell_type": "code",
   "execution_count": 19,
   "id": "3abdba12",
   "metadata": {},
   "outputs": [],
   "source": [
    "fruits=[\"Apple\",\"Banana\",\"cherry\",\"kiwi\",\"orange\"]"
   ]
  },
  {
   "cell_type": "code",
   "execution_count": null,
   "id": "2b93b2a7",
   "metadata": {},
   "outputs": [
    {
     "name": "stdout",
     "output_type": "stream",
     "text": [
      "['Apple', 'Banana', 'cherry', 'kiwi', 'orange', 'graps']\n"
     ]
    }
   ],
   "source": [
    "## List Methods\n",
    "fruits.append('graps') # adding an item at the end\n",
    "print(fruits)"
   ]
  },
  {
   "cell_type": "code",
   "execution_count": 23,
   "id": "3431bade",
   "metadata": {},
   "outputs": [
    {
     "name": "stdout",
     "output_type": "stream",
     "text": [
      "['Apple', 'Pineapple', 'Pineapple', 'Banana', 'Banana', 'cherry', 'orange', 'graps']\n"
     ]
    }
   ],
   "source": [
    "fruits.insert(1,'Pineapple') # inserting an item at index 1\n",
    "fruits.insert(3,'Banana') # inserting an item at index 1\n",
    "print(fruits)   "
   ]
  },
  {
   "cell_type": "code",
   "execution_count": null,
   "id": "8045d45c",
   "metadata": {},
   "outputs": [
    {
     "name": "stdout",
     "output_type": "stream",
     "text": [
      "['Apple', 'Pineapple', 'Pineapple', 'Banana', 'cherry', 'orange', 'graps']\n"
     ]
    }
   ],
   "source": [
    "fruits.remove('Banana') # removing the first occurrence of item\n",
    "print(fruits)"
   ]
  },
  {
   "cell_type": "code",
   "execution_count": 25,
   "id": "50de8c72",
   "metadata": {},
   "outputs": [
    {
     "name": "stdout",
     "output_type": "stream",
     "text": [
      "graps\n",
      "['Apple', 'Pineapple', 'Pineapple', 'Banana', 'cherry', 'orange']\n"
     ]
    }
   ],
   "source": [
    "## Remove and return the last element\n",
    "popped_fruits=fruits.pop()\n",
    "print(popped_fruits) # prints the removed item\n",
    "print(fruits) # prints the list after removing the last item"
   ]
  },
  {
   "cell_type": "code",
   "execution_count": 27,
   "id": "21f1f80c",
   "metadata": {},
   "outputs": [
    {
     "name": "stdout",
     "output_type": "stream",
     "text": [
      "3\n"
     ]
    }
   ],
   "source": [
    "index=fruits.index('Banana')\n",
    "print(index) # prints the index of 'kiwi'"
   ]
  },
  {
   "cell_type": "code",
   "execution_count": 28,
   "id": "663922d6",
   "metadata": {},
   "outputs": [
    {
     "name": "stdout",
     "output_type": "stream",
     "text": [
      "3\n"
     ]
    }
   ],
   "source": [
    "fruits.insert(1,'Pineapple') # inserting at index 1\n",
    "print(fruits.count('Pineapple')) # counting occurrences of 'Pineapple'"
   ]
  },
  {
   "cell_type": "code",
   "execution_count": 30,
   "id": "4b68d2eb",
   "metadata": {},
   "outputs": [
    {
     "name": "stdout",
     "output_type": "stream",
     "text": [
      "['Apple', 'Banana', 'Pineapple', 'Pineapple', 'Pineapple', 'cherry', 'orange']\n"
     ]
    }
   ],
   "source": [
    "fruits.sort()\n",
    "print(fruits) # sorting the list in ascending order"
   ]
  },
  {
   "cell_type": "code",
   "execution_count": 31,
   "id": "fad25c61",
   "metadata": {},
   "outputs": [
    {
     "name": "stdout",
     "output_type": "stream",
     "text": [
      "['orange', 'cherry', 'Pineapple', 'Pineapple', 'Pineapple', 'Banana', 'Apple']\n"
     ]
    }
   ],
   "source": [
    "fruits.reverse()\n",
    "print(fruits) # reversing the list"
   ]
  },
  {
   "cell_type": "code",
   "execution_count": 32,
   "id": "28b3b1c6",
   "metadata": {},
   "outputs": [
    {
     "name": "stdout",
     "output_type": "stream",
     "text": [
      "[1, 2, 3, 4, 5]\n",
      "[5, 4, 3, 2, 1]\n"
     ]
    }
   ],
   "source": [
    "num=[1,2,3,4,5]\n",
    "print(num)\n",
    "num.reverse()\n",
    "print(num) # reversing the list"
   ]
  },
  {
   "cell_type": "code",
   "execution_count": 33,
   "id": "52661c85",
   "metadata": {},
   "outputs": [
    {
     "name": "stdout",
     "output_type": "stream",
     "text": [
      "[]\n"
     ]
    }
   ],
   "source": [
    "fruits.clear() # clearing the list\n",
    "print(fruits) # prints an empty list"
   ]
  },
  {
   "cell_type": "code",
   "execution_count": 34,
   "id": "272fe309",
   "metadata": {},
   "outputs": [
    {
     "name": "stdout",
     "output_type": "stream",
     "text": [
      "['Banana', 'cherry']\n"
     ]
    }
   ],
   "source": [
    "## Slicing Lists\n",
    "fruits=[\"Apple\",\"Banana\",\"cherry\",\"kiwi\",\"orange\"]\n",
    "print(fruits[1:3]) # slicing from index 1 to 2"
   ]
  },
  {
   "cell_type": "code",
   "execution_count": 36,
   "id": "729414b9",
   "metadata": {},
   "outputs": [
    {
     "name": "stdout",
     "output_type": "stream",
     "text": [
      "[2, 3]\n",
      "[3, 4, 5]\n",
      "[1, 2, 3, 4, 5]\n",
      "[6, 7, 8, 9, 10]\n",
      "[8, 9, 10]\n",
      "[1, 3, 5, 7, 9]\n",
      "[10, 8, 6, 4, 2]\n"
     ]
    }
   ],
   "source": [
    "numbers=[1,2,3,4,5,6,7,8,9,10]\n",
    "print(numbers[1:3])\n",
    "print(numbers[2:5]) # slicing from index 2 to 4\n",
    "print(numbers[:5]) # slicing from start to index 4\n",
    "print(numbers[5:]) # slicing from index 5 to the end    \n",
    "print(numbers[-3:]) # slicing from index -3 to the end\n",
    "print(numbers[::2]) # slicing with a step of 2\n",
    "print(numbers[::-2]) # reversing the list using slicing"
   ]
  },
  {
   "cell_type": "code",
   "execution_count": 38,
   "id": "5322156a",
   "metadata": {},
   "outputs": [
    {
     "name": "stdout",
     "output_type": "stream",
     "text": [
      "1\n",
      "2\n",
      "3\n",
      "4\n",
      "5\n",
      "6\n",
      "7\n",
      "8\n",
      "9\n",
      "10\n"
     ]
    }
   ],
   "source": [
    "## iterating through a list\n",
    "for num in numbers:\n",
    "    print(num) # prints each number in the list"
   ]
  },
  {
   "cell_type": "code",
   "execution_count": 39,
   "id": "8c65faa2",
   "metadata": {},
   "outputs": [
    {
     "name": "stdout",
     "output_type": "stream",
     "text": [
      "Index: 0, Number: 1\n",
      "Index: 1, Number: 2\n",
      "Index: 2, Number: 3\n",
      "Index: 3, Number: 4\n",
      "Index: 4, Number: 5\n",
      "Index: 5, Number: 6\n",
      "Index: 6, Number: 7\n",
      "Index: 7, Number: 8\n",
      "Index: 8, Number: 9\n",
      "Index: 9, Number: 10\n"
     ]
    }
   ],
   "source": [
    "## iterating with index in list\n",
    "for index,num in enumerate(numbers):\n",
    "    print(f\"Index: {index}, Number: {num}\") # prints index and number"
   ]
  },
  {
   "cell_type": "code",
   "execution_count": 40,
   "id": "f61d03a3",
   "metadata": {},
   "outputs": [
    {
     "name": "stdout",
     "output_type": "stream",
     "text": [
      "[0, 1, 4, 9, 16, 25, 36, 49, 64, 81, 100]\n"
     ]
    }
   ],
   "source": [
    "## List Comprehension\n",
    "lst=[]\n",
    "for i in range(11):\n",
    "    lst.append(i**2)\n",
    "print(lst) # prints the list of squares"
   ]
  },
  {
   "cell_type": "code",
   "execution_count": null,
   "id": "8d9a759a",
   "metadata": {},
   "outputs": [
    {
     "data": {
      "text/plain": [
       "[0, 1, 4, 9, 16, 25, 36, 49, 64, 81, 100]"
      ]
     },
     "execution_count": 41,
     "metadata": {},
     "output_type": "execute_result"
    }
   ],
   "source": [
    "[x**2 for x in range(11)] # list comprehension to create a list of squares"
   ]
  },
  {
   "cell_type": "markdown",
   "id": "ef93b6a5",
   "metadata": {},
   "source": [
    "#### List Comprehension\n",
    "Basic Syntax   [expression for item in iterable]\n",
    "\n",
    "With Conditional Logic [expression for item in iterable if condition]"
   ]
  },
  {
   "cell_type": "code",
   "execution_count": 42,
   "id": "334ead4e",
   "metadata": {},
   "outputs": [
    {
     "name": "stdout",
     "output_type": "stream",
     "text": [
      "[0, 1, 4, 9, 16, 25, 36, 49, 64, 81]\n"
     ]
    }
   ],
   "source": [
    "## Basic List Comprehension Syntax\n",
    "# [expression for item in iterable]\n",
    "\n",
    "square=[num**2 for num in range(10)]\n",
    "print(square)"
   ]
  },
  {
   "cell_type": "code",
   "execution_count": 46,
   "id": "22e9f174",
   "metadata": {},
   "outputs": [
    {
     "name": "stdout",
     "output_type": "stream",
     "text": [
      "[0, 2, 4, 6, 8]\n"
     ]
    }
   ],
   "source": [
    "### List comprehension with conditional logic\n",
    "# [expression for item in iterable if condition]\n",
    "lst=[]\n",
    "for i in range(10):\n",
    "    if i%2==0:\n",
    "        lst.append(i)\n",
    "print(lst) # prints even numbers from 0 to 9"
   ]
  },
  {
   "cell_type": "code",
   "execution_count": 49,
   "id": "b5c54067",
   "metadata": {},
   "outputs": [
    {
     "name": "stdout",
     "output_type": "stream",
     "text": [
      "[0, 2, 4, 6, 8]\n"
     ]
    }
   ],
   "source": [
    "even_numbers=[num for num in range(10) if num%2==0 ]\n",
    "print(even_numbers) # prints even numbers from 0 to 9"
   ]
  },
  {
   "cell_type": "markdown",
   "id": "32b9f27d",
   "metadata": {},
   "source": [
    "### Nested List Comprehension \n",
    "\n",
    "[expression for items1 in iterable1 for item2 in iterable2]"
   ]
  },
  {
   "cell_type": "code",
   "execution_count": 50,
   "id": "1964485a",
   "metadata": {},
   "outputs": [
    {
     "name": "stdout",
     "output_type": "stream",
     "text": [
      "[[1, 'a'], [1, 'b'], [1, 'c'], [1, 'd'], [2, 'a'], [2, 'b'], [2, 'c'], [2, 'd'], [3, 'a'], [3, 'b'], [3, 'c'], [3, 'd'], [4, 'a'], [4, 'b'], [4, 'c'], [4, 'd']]\n"
     ]
    }
   ],
   "source": [
    "## Nested List Comprehension\n",
    "lst1=[1,2,3,4]\n",
    "lst2=['a','b','c','d']\n",
    "pair=[[x,y] for x in lst1 for y in lst2]\n",
    "print(pair) # prints pairs of elements from lst1 and lst2"
   ]
  },
  {
   "cell_type": "code",
   "execution_count": 51,
   "id": "b07bd27c",
   "metadata": {},
   "outputs": [
    {
     "name": "stdout",
     "output_type": "stream",
     "text": [
      "[5, 5, 6, 2, 7]\n"
     ]
    }
   ],
   "source": [
    "## List Comprehension with inbuilt function calls\n",
    "words=['hello','world','python','is','awesome']\n",
    "lengths=[len(word) for word in words]\n",
    "print(lengths) # prints the lengths of each word in the list\n",
    "\n"
   ]
  },
  {
   "cell_type": "code",
   "execution_count": null,
   "id": "1170c875",
   "metadata": {},
   "outputs": [],
   "source": []
  }
 ],
 "metadata": {
  "kernelspec": {
   "display_name": "Python 3",
   "language": "python",
   "name": "python3"
  },
  "language_info": {
   "codemirror_mode": {
    "name": "ipython",
    "version": 3
   },
   "file_extension": ".py",
   "mimetype": "text/x-python",
   "name": "python",
   "nbconvert_exporter": "python",
   "pygments_lexer": "ipython3",
   "version": "3.13.0"
  }
 },
 "nbformat": 4,
 "nbformat_minor": 5
}
