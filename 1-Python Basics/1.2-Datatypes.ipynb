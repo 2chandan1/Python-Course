{
 "cells": [
  {
   "cell_type": "markdown",
   "id": "042fe394",
   "metadata": {},
   "source": [
    "LEARNING ABOUT DATA TYPES AND IT'S CONCEPTS IN PYTHON"
   ]
  },
  {
   "cell_type": "code",
   "execution_count": 1,
   "id": "a1eac719",
   "metadata": {},
   "outputs": [
    {
     "data": {
      "text/plain": [
       "int"
      ]
     },
     "execution_count": 1,
     "metadata": {},
     "output_type": "execute_result"
    }
   ],
   "source": [
    "# Integers Example\n",
    "age=35\n",
    "type(age)\n"
   ]
  },
  {
   "cell_type": "code",
   "execution_count": 2,
   "id": "551660d1",
   "metadata": {},
   "outputs": [
    {
     "data": {
      "text/plain": [
       "float"
      ]
     },
     "execution_count": 2,
     "metadata": {},
     "output_type": "execute_result"
    }
   ],
   "source": [
    "# float Example\n",
    "height=5.9\n",
    "type(height)"
   ]
  },
  {
   "cell_type": "code",
   "execution_count": 3,
   "id": "b94a6221",
   "metadata": {},
   "outputs": [
    {
     "name": "stdout",
     "output_type": "stream",
     "text": [
      "John Doe\n"
     ]
    },
    {
     "data": {
      "text/plain": [
       "str"
      ]
     },
     "execution_count": 3,
     "metadata": {},
     "output_type": "execute_result"
    }
   ],
   "source": [
    "## string data type example\n",
    "name = \"John Doe\"\n",
    "print(name)\n",
    "type(name)\n"
   ]
  },
  {
   "cell_type": "code",
   "execution_count": 6,
   "id": "3d4c1de7",
   "metadata": {},
   "outputs": [
    {
     "name": "stdout",
     "output_type": "stream",
     "text": [
      "True\n",
      "True\n",
      "False\n"
     ]
    }
   ],
   "source": [
    "# boolean Example\n",
    "is_student = True\n",
    "print(is_student)   \n",
    "type(is_student)\n",
    "\n",
    "a=10\n",
    "b=10\n",
    "print(a == b)  # True, because a and b are equal\n",
    "print(a != b)  # False, because a and b are equal\n"
   ]
  },
  {
   "cell_type": "code",
   "execution_count": null,
   "id": "0052bbe2",
   "metadata": {},
   "outputs": [
    {
     "name": "stdout",
     "output_type": "stream",
     "text": [
      "hello5\n"
     ]
    }
   ],
   "source": [
    "#common errors\n",
    "result = \"hello\" + 5  # This will raise a TypeError because you cannot concatenate a string and an integer directly\n",
    "# To fix this, you can convert the integer to a string first:\n",
    "result=\"hello\"+ str(5)\n",
    "print(result)  # This will print \"hello5\" as a string concatenation "
   ]
  }
 ],
 "metadata": {
  "kernelspec": {
   "display_name": "Python 3",
   "language": "python",
   "name": "python3"
  },
  "language_info": {
   "codemirror_mode": {
    "name": "ipython",
    "version": 3
   },
   "file_extension": ".py",
   "mimetype": "text/x-python",
   "name": "python",
   "nbconvert_exporter": "python",
   "pygments_lexer": "ipython3",
   "version": "3.13.0"
  }
 },
 "nbformat": 4,
 "nbformat_minor": 5
}
