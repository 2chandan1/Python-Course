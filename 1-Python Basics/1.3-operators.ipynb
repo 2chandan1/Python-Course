{
 "cells": [
  {
   "cell_type": "markdown",
   "id": "bb7dcde1",
   "metadata": {},
   "source": [
    "Learning About Operators"
   ]
  },
  {
   "cell_type": "code",
   "execution_count": 6,
   "id": "af8a3900",
   "metadata": {},
   "outputs": [
    {
     "name": "stdout",
     "output_type": "stream",
     "text": [
      "Addition: 15\n",
      "Subtraction: 5\n",
      "Multiplication: 50\n",
      "Division: 2.0\n",
      "Floor Division: 2\n",
      "Modulus: 0\n",
      "Exponentiation: 100000\n"
     ]
    }
   ],
   "source": [
    "# Arithmetic Operators Example\n",
    "a = 10\n",
    "b = 5\n",
    "add=a+b\n",
    "print(\"Addition:\", add)\n",
    "\n",
    "Substract=a-b\n",
    "print(\"Subtraction:\", Substract)\n",
    "\n",
    "multiply=a*b\n",
    "print(\"Multiplication:\", multiply)\n",
    "\n",
    "divide=a/b\n",
    "print(\"Division:\", divide)  \n",
    "\n",
    "floor_division=a//b\n",
    "print(\"Floor Division:\", floor_division)\n",
    "\n",
    "modulus=a%b\n",
    "print(\"Modulus:\", modulus)\n",
    "\n",
    "exponentiation=a**b\n",
    "print(\"Exponentiation:\", exponentiation)"
   ]
  },
  {
   "cell_type": "markdown",
   "id": "f782ec5a",
   "metadata": {},
   "source": [
    "### Comparision Operator"
   ]
  },
  {
   "cell_type": "code",
   "execution_count": 12,
   "id": "e013c06b",
   "metadata": {},
   "outputs": [
    {
     "data": {
      "text/plain": [
       "False"
      ]
     },
     "execution_count": 12,
     "metadata": {},
     "output_type": "execute_result"
    }
   ],
   "source": [
    "#comparison operators example\n",
    "## == Equal to\n",
    "a=10\n",
    "b=10\n",
    "a == b\n",
    "## != Not equal to\n",
    "a != b\n"
   ]
  },
  {
   "cell_type": "code",
   "execution_count": 15,
   "id": "f9825b21",
   "metadata": {},
   "outputs": [
    {
     "data": {
      "text/plain": [
       "True"
      ]
     },
     "execution_count": 15,
     "metadata": {},
     "output_type": "execute_result"
    }
   ],
   "source": [
    "str1=\"Hello\"\n",
    "str2=\"Hello\"\n",
    "str1==str2\n"
   ]
  },
  {
   "cell_type": "code",
   "execution_count": 16,
   "id": "4602364b",
   "metadata": {},
   "outputs": [
    {
     "data": {
      "text/plain": [
       "True"
      ]
     },
     "execution_count": 16,
     "metadata": {},
     "output_type": "execute_result"
    }
   ],
   "source": [
    "str3=\"Hello\"\n",
    "str4=\"World\"\n",
    "str3 != str4  # This will return True because the strings are not equal"
   ]
  },
  {
   "cell_type": "code",
   "execution_count": null,
   "id": "fc346db2",
   "metadata": {},
   "outputs": [
    {
     "data": {
      "text/plain": [
       "True"
      ]
     },
     "execution_count": 19,
     "metadata": {},
     "output_type": "execute_result"
    }
   ],
   "source": [
    "#greater than\n",
    "num1=45\n",
    "num2=55\n",
    "num1 > num2  # This will return False because 45 is not greater than 55\n"
   ]
  },
  {
   "cell_type": "code",
   "execution_count": null,
   "id": "bd739afe",
   "metadata": {},
   "outputs": [
    {
     "data": {
      "text/plain": [
       "True"
      ]
     },
     "execution_count": 20,
     "metadata": {},
     "output_type": "execute_result"
    }
   ],
   "source": [
    "#less than\n",
    "num1 < num2  "
   ]
  },
  {
   "cell_type": "code",
   "execution_count": 21,
   "id": "0131b3ee",
   "metadata": {},
   "outputs": [
    {
     "data": {
      "text/plain": [
       "False"
      ]
     },
     "execution_count": 21,
     "metadata": {},
     "output_type": "execute_result"
    }
   ],
   "source": [
    "#greater than or equal to\n",
    "num1 = 10   \n",
    "num2 = 20\n",
    "num1 >= num2  # This will return False because 10 is not greater than or equal to 20"
   ]
  },
  {
   "cell_type": "code",
   "execution_count": null,
   "id": "c848ce8e",
   "metadata": {},
   "outputs": [
    {
     "data": {
      "text/plain": [
       "True"
      ]
     },
     "execution_count": 23,
     "metadata": {},
     "output_type": "execute_result"
    }
   ],
   "source": [
    "#less than or equal to\n",
    "num1 <= num2"
   ]
  },
  {
   "cell_type": "markdown",
   "id": "974f2f5d",
   "metadata": {},
   "source": [
    "### Logical Operators ( And,Not, OR)"
   ]
  },
  {
   "cell_type": "code",
   "execution_count": null,
   "id": "46b35691",
   "metadata": {},
   "outputs": [
    {
     "name": "stdout",
     "output_type": "stream",
     "text": [
      "Result of 'and' operator: True\n",
      "Result of 'and' operator with one False: False\n",
      "Result of 'or' operator: True\n",
      "Result of 'or' operator with one False: True\n"
     ]
    }
   ],
   "source": [
    "## And, Not, OR\n",
    "# Example of logical operators\n",
    "x=True\n",
    "y=True\n",
    "z=False\n",
    "# Using 'and' operator\n",
    "result_and = x and y \n",
    "result_and1= x and z\n",
    "print(\"Result of 'and' operator:\", result_and)  # This will return True because both x and y are True\n",
    "print(\"Result of 'and' operator with one False:\", result_and1)  # This will return False because z is False\n",
    "\n",
    "# Using 'OR' operator       \n",
    "result_or= x or y\n",
    "result_or1= x or z\n",
    "print(\"Result of 'or' operator:\", result_or)  # This will return True because at least one of x or y is True\n",
    "print(\"Result of 'or' operator with one False:\", result_or1)  # This will return True because x is True\n"
   ]
  },
  {
   "cell_type": "code",
   "execution_count": 30,
   "id": "b69b2f77",
   "metadata": {},
   "outputs": [
    {
     "name": "stdout",
     "output_type": "stream",
     "text": [
      "Result of 'not' operator on x: False\n",
      "Result of 'not' operator on y: True\n"
     ]
    }
   ],
   "source": [
    "#Not operator\n",
    "result_not = not x\n",
    "result_not1 = not z\n",
    "print(\"Result of 'not' operator on x:\", result_not)  # This will return False because x is True\n",
    "print(\"Result of 'not' operator on y:\", result_not1)  # This will return True because z is False"
   ]
  },
  {
   "cell_type": "code",
   "execution_count": 31,
   "id": "d5c567a3",
   "metadata": {},
   "outputs": [
    {
     "name": "stdout",
     "output_type": "stream",
     "text": [
      "Sum: 30.0\n",
      "Difference: -10.0\n",
      "Product: 200.0\n",
      "Quotient: 0.5\n"
     ]
    }
   ],
   "source": [
    "##simple calculater\n",
    "num1=float(input('enter first number:'))\n",
    "num2=float(input('enter second number:'))\n",
    "sum=num1+num2\n",
    "difference=num1-num2\n",
    "product=num1*num2       \n",
    "quotient=num1/num2\n",
    "print(\"Sum:\", sum)\n",
    "print(\"Difference:\", difference)    \n",
    "print(\"Product:\", product)\n",
    "print(\"Quotient:\", quotient)"
   ]
  },
  {
   "cell_type": "code",
   "execution_count": null,
   "id": "63a0cb93",
   "metadata": {},
   "outputs": [],
   "source": []
  }
 ],
 "metadata": {
  "kernelspec": {
   "display_name": "Python 3",
   "language": "python",
   "name": "python3"
  },
  "language_info": {
   "codemirror_mode": {
    "name": "ipython",
    "version": 3
   },
   "file_extension": ".py",
   "mimetype": "text/x-python",
   "name": "python",
   "nbconvert_exporter": "python",
   "pygments_lexer": "ipython3",
   "version": "3.13.0"
  }
 },
 "nbformat": 4,
 "nbformat_minor": 5
}
