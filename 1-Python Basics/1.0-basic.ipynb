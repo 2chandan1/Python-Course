{
 "cells": [
  {
   "cell_type": "markdown",
   "id": "3fee86ba",
   "metadata": {},
   "source": [
    "sigle line comment"
   ]
  },
  {
   "cell_type": "code",
   "execution_count": 1,
   "id": "0e7faf18",
   "metadata": {},
   "outputs": [
    {
     "data": {
      "text/plain": [
       "4"
      ]
     },
     "execution_count": 1,
     "metadata": {},
     "output_type": "execute_result"
    }
   ],
   "source": [
    "2+2"
   ]
  },
  {
   "cell_type": "code",
   "execution_count": 3,
   "id": "ef9a7b19",
   "metadata": {},
   "outputs": [
    {
     "name": "stdout",
     "output_type": "stream",
     "text": [
      "chandan\n",
      "tiwari\n"
     ]
    }
   ],
   "source": [
    "## Python is case sensitive\n",
    "# This means that variable names are case sensitive.    \n",
    "# For example, `myVariable` and `myvariable` are considered different variables.\n",
    "# Python is also sensitive to whitespace, so indentation matters.\n",
    "name=\"chandan\"\n",
    "Name=\"tiwari\"\n",
    "print(name)\n",
    "print(Name)"
   ]
  },
  {
   "cell_type": "markdown",
   "id": "4541384f",
   "metadata": {},
   "source": [
    "Indentation"
   ]
  },
  {
   "cell_type": "code",
   "execution_count": 4,
   "id": "4f583ce3",
   "metadata": {},
   "outputs": [
    {
     "name": "stdout",
     "output_type": "stream",
     "text": [
      "you are older than 30\n"
     ]
    }
   ],
   "source": [
    "## Indentation in Python\n",
    "# Indentation is used to define the structure of the code.\n",
    "# Python uses indentation to indicate a block of code. Consistent use of spaces (commonly 4 ) or a tab is required\n",
    "age=32\n",
    "if age >30:\n",
    "    print(\"you are older than 30\")"
   ]
  },
  {
   "cell_type": "code",
   "execution_count": null,
   "id": "75cfdc0c",
   "metadata": {},
   "outputs": [
    {
     "name": "stdout",
     "output_type": "stream",
     "text": [
      "55\n"
     ]
    }
   ],
   "source": [
    "# Line Continuation\n",
    "# If a statement is too long, you can use a backslash (\\) to continue it on the next line.\n",
    "# This is useful for improving code readability.\n",
    "total= 1+2+3+4+5+\\\n",
    "    6+7+8+9+10\n",
    "print (total)   "
   ]
  },
  {
   "cell_type": "code",
   "execution_count": 9,
   "id": "a0b73886",
   "metadata": {},
   "outputs": [
    {
     "name": "stdout",
     "output_type": "stream",
     "text": [
      "1 2\n",
      "c = 3\n"
     ]
    }
   ],
   "source": [
    "# Multiple statement in a single line \n",
    "a=1; b=2; c=a+b\n",
    "print(a, b)\n",
    "print(\"c =\",c)"
   ]
  },
  {
   "cell_type": "code",
   "execution_count": 10,
   "id": "8839fdc1",
   "metadata": {},
   "outputs": [],
   "source": [
    "# Uderstand Semantics In Python\n",
    "# Variable assignment\n",
    "age=32\n",
    "name=\"chandan\""
   ]
  },
  {
   "cell_type": "code",
   "execution_count": null,
   "id": "bf3fe340",
   "metadata": {},
   "outputs": [
    {
     "data": {
      "text/plain": [
       "int"
      ]
     },
     "execution_count": 11,
     "metadata": {},
     "output_type": "execute_result"
    }
   ],
   "source": [
    "# Type Inference\n",
    "type(age)"
   ]
  },
  {
   "cell_type": "code",
   "execution_count": 12,
   "id": "c7e5bfbd",
   "metadata": {},
   "outputs": [
    {
     "data": {
      "text/plain": [
       "str"
      ]
     },
     "execution_count": 12,
     "metadata": {},
     "output_type": "execute_result"
    }
   ],
   "source": [
    "type(name)"
   ]
  },
  {
   "cell_type": "code",
   "execution_count": 15,
   "id": "ee363a83",
   "metadata": {},
   "outputs": [
    {
     "name": "stdout",
     "output_type": "stream",
     "text": [
      "<class 'int'>\n",
      "<class 'str'>\n"
     ]
    }
   ],
   "source": [
    "#  Type Inference\n",
    "var=10\n",
    "print(type(var))\n",
    "var=\"chandan\"\n",
    "print(type(var))"
   ]
  },
  {
   "cell_type": "code",
   "execution_count": 17,
   "id": "4350e2d7",
   "metadata": {},
   "outputs": [
    {
     "ename": "NameError",
     "evalue": "name 'bs' is not defined",
     "output_type": "error",
     "traceback": [
      "\u001b[31m---------------------------------------------------------------------------\u001b[39m",
      "\u001b[31mNameError\u001b[39m                                 Traceback (most recent call last)",
      "\u001b[36mCell\u001b[39m\u001b[36m \u001b[39m\u001b[32mIn[17]\u001b[39m\u001b[32m, line 1\u001b[39m\n\u001b[32m----> \u001b[39m\u001b[32m1\u001b[39m a=\u001b[43mbs\u001b[49m\n",
      "\u001b[31mNameError\u001b[39m: name 'bs' is not defined"
     ]
    }
   ],
   "source": [
    "a=bs"
   ]
  },
  {
   "cell_type": "code",
   "execution_count": 21,
   "id": "053e0b04",
   "metadata": {},
   "outputs": [
    {
     "name": "stdout",
     "output_type": "stream",
     "text": [
      "correct indentation\n",
      "this will print\n",
      "this is out side of if block\n"
     ]
    }
   ],
   "source": [
    "#  Code example of indentation\n",
    "if True:\n",
    "    print(\"correct indentation\")\n",
    "    if False:\n",
    "        print(\"this is not correct indentation\")\n",
    "    print(\"this will print\")\n",
    "print(\"this is out side of if block\")"
   ]
  },
  {
   "cell_type": "code",
   "execution_count": null,
   "id": "45edf6c9",
   "metadata": {},
   "outputs": [],
   "source": []
  }
 ],
 "metadata": {
  "kernelspec": {
   "display_name": "Python 3",
   "language": "python",
   "name": "python3"
  },
  "language_info": {
   "codemirror_mode": {
    "name": "ipython",
    "version": 3
   },
   "file_extension": ".py",
   "mimetype": "text/x-python",
   "name": "python",
   "nbconvert_exporter": "python",
   "pygments_lexer": "ipython3",
   "version": "3.13.0"
  }
 },
 "nbformat": 4,
 "nbformat_minor": 5
}
