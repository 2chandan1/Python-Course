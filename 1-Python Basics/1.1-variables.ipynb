{
 "cells": [
  {
   "cell_type": "code",
   "execution_count": 1,
   "id": "50c4e402",
   "metadata": {},
   "outputs": [],
   "source": [
    "a=100"
   ]
  },
  {
   "cell_type": "code",
   "execution_count": 2,
   "id": "7ad4a54f",
   "metadata": {},
   "outputs": [
    {
     "name": "stdout",
     "output_type": "stream",
     "text": [
      "Age: 24\n",
      "Height: 5.5\n",
      "Name: Chandan Tiwari\n",
      "Is Employee: True\n"
     ]
    }
   ],
   "source": [
    "# Declaring and assigning variables in Python\n",
    "age= 24\n",
    "height = 5.5\n",
    "name = \"Chandan Tiwari\"\n",
    "is_employee = True\n",
    "\n",
    "# Printing variables\n",
    "print(\"Age:\", age)\n",
    "print(\"Height:\", height)\n",
    "print(\"Name:\", name)\n",
    "print(\"Is Employee:\", is_employee)\n"
   ]
  },
  {
   "cell_type": "code",
   "execution_count": 3,
   "id": "3edbd3c4",
   "metadata": {},
   "outputs": [],
   "source": [
    "## Naming Conventions\n",
    "# Variables must start with a letter or underscore (_), and in between can contain letters, numbers, and underscores.\n",
    "#  Variable names are case-sensitive.\n",
    "#  Avoid using reserved keywords (like `if`, `else`, `while`, etc.)\n",
    "\n",
    "# Valid variable names:\n",
    "first_name=\"Chandan\"\n",
    "Last_Name=\"Tiwari\"\n"
   ]
  },
  {
   "cell_type": "code",
   "execution_count": null,
   "id": "eb6aa034",
   "metadata": {},
   "outputs": [],
   "source": [
    "# Invalid variable names:\n",
    "# 1st_name=\"Chandan\"\n",
    "# first-nme=\"chandan\"\n",
    "# @name=\"chandan\""
   ]
  },
  {
   "cell_type": "code",
   "execution_count": 13,
   "id": "89fa0359",
   "metadata": {},
   "outputs": [],
   "source": [
    "#Case Sensitivity\n",
    "first_name = \"Chandan\"\n",
    "First_Name = \"Chandan\"\n",
    "# first_name === First_Name  # This will print \"Chandan\" and \"Chandan\" because Python is case-sensitive."
   ]
  },
  {
   "cell_type": "code",
   "execution_count": 15,
   "id": "63f1200d",
   "metadata": {},
   "outputs": [
    {
     "name": "stdout",
     "output_type": "stream",
     "text": [
      "<class 'int'>\n",
      "<class 'float'>\n",
      "<class 'str'>\n",
      "<class 'bool'>\n"
     ]
    }
   ],
   "source": [
    "# Python Variabl types\n",
    "## python is a dynamically typed language. means type of variable is determined at runtime.\n",
    "age = 24 #int\n",
    "height = 5.5 #float\n",
    "name = \"Chandan Tiwari\" #str    \n",
    "is_employee = True #bool\n",
    "\n",
    "print(type(age))        # <class 'int'>\n",
    "print(type(height))     # <class 'float'>       \n",
    "print(type(name))       # <class 'str'>\n",
    "print(type(is_employee)) # <class 'bool'>"
   ]
  },
  {
   "cell_type": "code",
   "execution_count": 16,
   "id": "739605b1",
   "metadata": {},
   "outputs": [
    {
     "data": {
      "text/plain": [
       "float"
      ]
     },
     "execution_count": 16,
     "metadata": {},
     "output_type": "execute_result"
    }
   ],
   "source": [
    "# Type Checking and Conversion\n",
    "type(height)"
   ]
  },
  {
   "cell_type": "code",
   "execution_count": 3,
   "id": "740909fe",
   "metadata": {},
   "outputs": [
    {
     "name": "stdout",
     "output_type": "stream",
     "text": [
      "<class 'int'>\n",
      "25\n",
      "<class 'str'>\n"
     ]
    }
   ],
   "source": [
    "age=25\n",
    "print(type(age))\n",
    "\n",
    "# Type conversion\n",
    "age_str=str(age)\n",
    "print(age_str)  # <class 'str'>\n",
    "print(type(age_str))  # <class 'str'>"
   ]
  },
  {
   "cell_type": "code",
   "execution_count": 4,
   "id": "4c742572",
   "metadata": {},
   "outputs": [
    {
     "name": "stdout",
     "output_type": "stream",
     "text": [
      "<class 'int'>\n"
     ]
    }
   ],
   "source": [
    "age=\"23\"\n",
    "print(type(int(age)))"
   ]
  },
  {
   "cell_type": "code",
   "execution_count": 9,
   "id": "2c85e157",
   "metadata": {},
   "outputs": [
    {
     "data": {
      "text/plain": [
       "float"
      ]
     },
     "execution_count": 9,
     "metadata": {},
     "output_type": "execute_result"
    }
   ],
   "source": [
    "name=\"chandan\"\n",
    "# print(type(int(name)))  # This will raise an error because 'name' is a string, not a number.\n",
    "\n",
    "height= 5.5\n",
    "type(height)  # <class 'float'>\n"
   ]
  },
  {
   "cell_type": "code",
   "execution_count": 11,
   "id": "99d23f86",
   "metadata": {},
   "outputs": [
    {
     "name": "stdout",
     "output_type": "stream",
     "text": [
      "5\n",
      "5.0\n"
     ]
    }
   ],
   "source": [
    "print(int(height))\n",
    "print(float(int(height)))"
   ]
  },
  {
   "cell_type": "code",
   "execution_count": 12,
   "id": "fe7fbcae",
   "metadata": {},
   "outputs": [
    {
     "name": "stdout",
     "output_type": "stream",
     "text": [
      "<class 'int'>\n",
      "<class 'str'>\n",
      "<class 'float'>\n",
      "<class 'bool'>\n"
     ]
    }
   ],
   "source": [
    "## Dynamic Typing\n",
    "# Python allows you to change the type of a variable at runtime.\n",
    "var=10\n",
    "print(type(var))  # <class 'int'>\n",
    "var=\"Hello\"\n",
    "print(type(var))  # <class 'str'>\n",
    "var=3.14\n",
    "print(type(var))  # <class 'float'>\n",
    "var=True\n",
    "print(type(var))  # <class 'bool'>"
   ]
  },
  {
   "cell_type": "code",
   "execution_count": 15,
   "id": "19c38f89",
   "metadata": {},
   "outputs": [
    {
     "name": "stdout",
     "output_type": "stream",
     "text": [
      "Your age is: 23 and its type is: <class 'int'>\n"
     ]
    }
   ],
   "source": [
    "## input\n",
    "age=int(input(\"Enter your age: \"))\n",
    "print(\"Your age is:\", age, \"and its type is:\", type(age))"
   ]
  },
  {
   "cell_type": "code",
   "execution_count": 17,
   "id": "39c6d631",
   "metadata": {},
   "outputs": [
    {
     "name": "stdout",
     "output_type": "stream",
     "text": [
      "Sum: 15.0\n",
      "Difference: 9.0\n",
      "Product: 36.0\n",
      "Quotient: 4.0\n"
     ]
    }
   ],
   "source": [
    "##simple calculater\n",
    "num1=float(input('enter first number:'))\n",
    "num2=float(input('enter second number:'))\n",
    "sum=num1+num2\n",
    "difference=num1-num2\n",
    "product=num1*num2       \n",
    "quotient=num1/num2\n",
    "print(\"Sum:\", sum)\n",
    "print(\"Difference:\", difference)    \n",
    "print(\"Product:\", product)\n",
    "print(\"Quotient:\", quotient)"
   ]
  }
 ],
 "metadata": {
  "kernelspec": {
   "display_name": "Python 3",
   "language": "python",
   "name": "python3"
  },
  "language_info": {
   "codemirror_mode": {
    "name": "ipython",
    "version": 3
   },
   "file_extension": ".py",
   "mimetype": "text/x-python",
   "name": "python",
   "nbconvert_exporter": "python",
   "pygments_lexer": "ipython3",
   "version": "3.13.0"
  }
 },
 "nbformat": 4,
 "nbformat_minor": 5
}
